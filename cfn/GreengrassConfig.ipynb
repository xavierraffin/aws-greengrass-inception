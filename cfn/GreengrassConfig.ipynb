{
 "cells": [
  {
   "cell_type": "markdown",
   "metadata": {},
   "source": [
    "## Environment setup"
   ]
  },
  {
   "cell_type": "code",
   "execution_count": null,
   "metadata": {},
   "outputs": [],
   "source": [
    "!python3.7 -m pip install boto3;"
   ]
  },
  {
   "cell_type": "code",
   "execution_count": null,
   "metadata": {},
   "outputs": [],
   "source": [
    "!python3.7 -m pip install awscli;"
   ]
  },
  {
   "cell_type": "markdown",
   "metadata": {},
   "source": [
    "## Parameters configuration"
   ]
  },
  {
   "cell_type": "code",
   "execution_count": 4,
   "metadata": {},
   "outputs": [],
   "source": [
    "import boto3\n",
    "import os\n",
    "\n",
    "account = boto3.client('sts').get_caller_identity().get('Account')\n",
    "\n",
    "AWS_REGION = \"us-east-1\"\n",
    "\n",
    "# Configuration for the IoT Thing: Certificate file name, and core name\n",
    "CERT_PEM_OUTFILE=\"mli.cert.pem\"\n",
    "PUBLIC_KEY_OUTFILE=\"mli.public.key\" \n",
    "PRIVATE_KEY_OUTFILE=\"mli.private.key\" \n",
    "CORENAME=\"greengrass_ml_{}\".format(AWS_REGION)\n",
    "\n",
    "# Temporary workspace\n",
    "WORKSPACE_FOLDER=\"./work\"\n",
    "GREENGRASS_WORK_FOLDER=os.path.join(WORKSPACE_FOLDER,\"greengrass\")\n",
    "\n",
    "# S3 Bucket for the ML model\n",
    "ML_S3_BUCKET=\"{}-greengrass-{}\".format(account,AWS_REGION)\n",
    "\n",
    "# S3 Bucket for the Cloudformation functions\n",
    "CFN_S3_BUCKET=\"{}-cloudformation-{}\".format(account,AWS_REGION)\n",
    "CFN_STACK_NAME=\"greengrass-mli-accelerator\""
   ]
  },
  {
   "cell_type": "code",
   "execution_count": 11,
   "metadata": {},
   "outputs": [
    {
     "name": "stdout",
     "output_type": "stream",
     "text": [
      "old ./work removed\n",
      "./work created\n",
      "./work/greengrass created\n"
     ]
    }
   ],
   "source": [
    "![ -d {WORKSPACE_FOLDER} ] && rm -r {WORKSPACE_FOLDER} && echo \"old {WORKSPACE_FOLDER} removed\"\n",
    "!mkdir -p {WORKSPACE_FOLDER} && echo \"{WORKSPACE_FOLDER} created\"\n",
    "!mkdir -p {GREENGRASS_WORK_FOLDER} \\\n",
    "&& mkdir -p {GREENGRASS_WORK_FOLDER}/certs \\\n",
    "&& mkdir -p {GREENGRASS_WORK_FOLDER}/config \\\n",
    "&& echo \"{GREENGRASS_WORK_FOLDER} created\""
   ]
  },
  {
   "cell_type": "markdown",
   "metadata": {},
   "source": [
    "## Download the pre-trained model"
   ]
  },
  {
   "cell_type": "code",
   "execution_count": null,
   "metadata": {},
   "outputs": [],
   "source": [
    "!wget -nv http://data.mxnet.io/models/imagenet/inception-bn/Inception-BN-symbol.json --directory-prefix {WORKSPACE_FOLDER}\n",
    "!wget -nv http://data.mxnet.io/mxnet/models/imagenet/synset.txt --directory-prefix {WORKSPACE_FOLDER}\n",
    "!wget -nv http://data.mxnet.io/models/imagenet/inception-bn/Inception-BN-0126.params -O {WORKSPACE_FOLDER}/Inception-BN-0000.params"
   ]
  },
  {
   "cell_type": "code",
   "execution_count": null,
   "metadata": {},
   "outputs": [],
   "source": [
    "from zipfile import ZipFile\n",
    "import os\n",
    "\n",
    "# create a ZipFile object\n",
    "zipObj = ZipFile(os.path.join(WORKSPACE_FOLDER, \"inception-bn.zip\"), 'w')\n",
    "# Add multiple files to the zip\n",
    "zipObj.write(os.path.join(WORKSPACE_FOLDER,\"Inception-BN-symbol.json\"))\n",
    "zipObj.write(os.path.join(WORKSPACE_FOLDER,\"synset.txt\"))\n",
    "zipObj.write(os.path.join(WORKSPACE_FOLDER,\"Inception-BN-0000.params\"))\n",
    "# close the Zip File\n",
    "zipObj.close()"
   ]
  },
  {
   "cell_type": "code",
   "execution_count": null,
   "metadata": {},
   "outputs": [],
   "source": [
    "# Upload to S3 bucket\n",
    "import boto3\n",
    "import os\n",
    "s3 = boto3.resource('s3')\n",
    "if not s3.Bucket(ML_S3_BUCKET) in s3.buckets.all():\n",
    "    s3.create_bucket(Bucket=ML_S3_BUCKET)\n",
    "\n",
    "s3_client = boto3.client('s3')\n",
    "s3_client.upload_file( os.path.join(WORKSPACE_FOLDER, \"inception-bn.zip\"), ML_S3_BUCKET, \"inception-bn.zip\")\n",
    "\n",
    "ML_S3_BUCKET_URI=\"s3://{}/{}\".format(ML_S3_BUCKET, \"inception-bn.zip\")"
   ]
  },
  {
   "cell_type": "markdown",
   "metadata": {},
   "source": [
    "## Create the credential for the AWS IoT Thing"
   ]
  },
  {
   "cell_type": "code",
   "execution_count": null,
   "metadata": {},
   "outputs": [],
   "source": [
    "iotClient = boto3.client('iot', region_name=AWS_REGION)\n",
    "from botocore.exceptions import ClientError\n",
    "try:\n",
    "    response = iotClient.create_keys_and_certificate(\n",
    "        setAsActive=True\n",
    "    )\n",
    "except ClientError as e:\n",
    "    if(e.response[\"Error\"][\"Code\"]==\"AccessDeniedException\"):\n",
    "        print(\"Missing permission. Please add \\niot:CreateKeysAndCertificate on resource: *\\n to the instance IAM role\\n\")\n",
    "    raise e"
   ]
  },
  {
   "cell_type": "code",
   "execution_count": null,
   "metadata": {},
   "outputs": [],
   "source": [
    "import os\n",
    "CERTIFICATE_ID=response.get(\"certificateId\")\n",
    "CERT_FOLDER = os.path.join(GREENGRASS_WORK_FOLDER, \"certs/\")\n",
    "if not os.path.exists(CERT_FOLDER):\n",
    "    os.makedirs(CERT_FOLDER)                    \n",
    "\n",
    "try:\n",
    "    with open(os.path.join(CERT_FOLDER, CERT_PEM_OUTFILE), 'w') as the_file:\n",
    "        the_file.write(response.get(\"certificatePem\"))\n",
    "    with open(os.path.join(CERT_FOLDER, PUBLIC_KEY_OUTFILE), 'w') as the_file:\n",
    "        the_file.write(response.get(\"keyPair\").get(\"PublicKey\"))\n",
    "    with open(os.path.join(CERT_FOLDER, PRIVATE_KEY_OUTFILE), 'w') as the_file:\n",
    "        the_file.write(response.get(\"keyPair\").get(\"PrivateKey\"))\n",
    "except IOError as e:\n",
    "    print(\"Error creating certificate files\")\n",
    "    raise e"
   ]
  },
  {
   "cell_type": "markdown",
   "metadata": {},
   "source": [
    "## Uses the Cloudformation to generate the Greengrass Core"
   ]
  },
  {
   "cell_type": "code",
   "execution_count": null,
   "metadata": {},
   "outputs": [],
   "source": [
    "import boto3\n",
    "s3 = boto3.resource('s3')\n",
    "if not s3.Bucket(CFN_S3_BUCKET) in s3.buckets.all():\n",
    "    s3.create_bucket(Bucket=CFN_S3_BUCKET)"
   ]
  },
  {
   "cell_type": "code",
   "execution_count": null,
   "metadata": {},
   "outputs": [],
   "source": [
    "# Check IAM permission\n",
    "import boto3\n",
    "from botocore.exceptions import ClientError\n",
    "\n",
    "try:\n",
    "    cloudformation = boto3.resource('cloudformation', region_name=AWS_REGION)\n",
    "    stack = cloudformation.Stack(CFN_STACK_NAME)\n",
    "    stack.description\n",
    "except ClientError as e:\n",
    "    if(e.response[\"Error\"][\"Code\"]==\"ValidationError\"):\n",
    "        print(\"Stack name {} does not exist, continue\".format(CFN_STACK_NAME))\n",
    "    elif(e.response[\"Error\"][\"Code\"]==\"AccessDenied\"):\n",
    "        print(\"Missing permission. Please add the following IAM Policy\\n\\n \\\n",
    "              resource: arn:aws:cloudformation:{}:{}:stack/{}/*\\n\\n \\\n",
    "              cloudformation:DescribeStacks \\n \\\n",
    "              cloudformation:CreateChangeSet \\n \\\n",
    "              to IAM role:\\n{}\\n\".format(region,account,CFN_STACK_NAME,role))\n",
    "        raise e\n",
    "    else:\n",
    "        raise e"
   ]
  },
  {
   "cell_type": "code",
   "execution_count": null,
   "metadata": {},
   "outputs": [],
   "source": [
    "![ -e {WORKSPACE_FOLDER}/*-OUTPUT.yaml ] && rm {WORKSPACE_FOLDER}/*-OUTPUT.yaml\n",
    "!aws cloudformation package \\\n",
    "--region {AWS_REGION} \\\n",
    "--template-file aws-iot-greengrass-accelerators/accelerators/machine_learning_inference/cfn/mli_accelerator_s3_models-INPUT.cfn.yaml \\\n",
    "--s3-bucket {CFN_S3_BUCKET} \\\n",
    "--output-template-file {WORKSPACE_FOLDER}/mli_accelerator_s3_models-OUTPUT.yaml\n"
   ]
  },
  {
   "cell_type": "code",
   "execution_count": null,
   "metadata": {},
   "outputs": [],
   "source": [
    "!aws cloudformation deploy \\\n",
    "  --region {AWS_REGION} \\\n",
    "  --stack-name {CFN_STACK_NAME} \\\n",
    "  --template-file {WORKSPACE_FOLDER}/mli_accelerator_s3_models-OUTPUT.yaml \\\n",
    "  --capabilities CAPABILITY_NAMED_IAM \\\n",
    "  --parameter-overrides \\\n",
    "    CoreName={CORENAME} \\\n",
    "    CertIdParam={CERTIFICATE_ID} \\\n",
    "    ModelS3Uri={ML_S3_BUCKET_URI} "
   ]
  },
  {
   "cell_type": "code",
   "execution_count": null,
   "metadata": {},
   "outputs": [],
   "source": [
    "print(\"...waiting for stack {} to be ready...\".format(CFN_STACK_NAME))\n",
    "client = boto3.client('cloudformation', region_name=AWS_REGION)\n",
    "waiter = client.get_waiter('stack_create_complete')\n",
    "waiter.wait(StackName=CFN_STACK_NAME)"
   ]
  },
  {
   "cell_type": "markdown",
   "metadata": {},
   "source": [
    "## Create the Greengrass config and package with the credential files"
   ]
  },
  {
   "cell_type": "code",
   "execution_count": 12,
   "metadata": {},
   "outputs": [],
   "source": [
    "# Download the Amazon ROOT CA cert into the folder\n",
    "!wget -o {GREENGRASS_WORK_FOLDER}/certs/AmazonRootCA1.pem https://www.amazontrust.com/repository/AmazonRootCA1.pem"
   ]
  },
  {
   "cell_type": "code",
   "execution_count": 20,
   "metadata": {},
   "outputs": [],
   "source": [
    "# from operator import itemgetter \n",
    "import boto3\n",
    "import json\n",
    "\n",
    "cfn_client = boto3.client('cloudformation', region_name=AWS_REGION)\n",
    "response = cfn_client.describe_stacks(StackName=CFN_STACK_NAME)\n",
    "stacks = response.get(\"Stacks\")\n",
    "\n",
    "greengrass_config={}\n",
    "\n",
    "for stack in stacks:\n",
    "    if stack[\"Outputs\"]:\n",
    "        for output in stack[\"Outputs\"]:\n",
    "            if output[\"OutputKey\"] == \"GreengrassConfig\":\n",
    "                greengrass_config = output[\"OutputValue\"]\n",
    "                greengrass_config = json.loads(greengrass_config)\n",
    "    \n",
    "# Update the credential file name    \n",
    "greengrass_config[\"crypto\"][\"certificatePath\"] = \"file:////greengrass/certs/{}\".format(CERT_PEM_OUTFILE)\n",
    "greengrass_config[\"crypto\"][\"privateKeyPath\"] = \"file:////greengrass/certs/{}\".format(PRIVATE_KEY_OUTFILE)\n",
    "\n",
    "try:\n",
    "    GREENGRASS_CONFIG_FOLDER = os.path.join(GREENGRASS_WORK_FOLDER, \"config/\")\n",
    "    if not os.path.exists(GREENGRASS_CONFIG_FOLDER):\n",
    "        os.makedirs(GREENGRASS_CONFIG_FOLDER)                    \n",
    "    with open(os.path.join(GREENGRASS_CONFIG_FOLDER, \"config.json\"), 'w') as the_file:\n",
    "        the_file.write(json.dumps(greengrass_config))\n",
    "except IOError as e:\n",
    "    print(\"Error creating Greengrass config file\")\n",
    "    raise e"
   ]
  },
  {
   "cell_type": "code",
   "execution_count": 29,
   "metadata": {},
   "outputs": [
    {
     "name": "stdout",
     "output_type": "stream",
     "text": [
      "archiving file ./work/greengrass/certs/AmazonRootCA1.pem\n",
      "archiving file ./work/greengrass/config/config.json\n"
     ]
    }
   ],
   "source": [
    "from zipfile import ZipFile\n",
    "import os\n",
    "\n",
    "def archive_all_subfolder(zipfile, folder):\n",
    "    \"\"\"\n",
    "    'zipfile' is the file name for the archive with a full path\n",
    "    'folder' is root of the folder which all files to be added to the zipfile\n",
    "    \"\"\"\n",
    "    with ZipFile(zipfile, 'w') as zip:    \n",
    "        for root, dirs, files in os.walk(folder):\n",
    "            if(files):\n",
    "                for file in files:\n",
    "                    f = os.path.join(root,file)\n",
    "                    print (\"archiving file {}\".format(f))\n",
    "                    zip.write(f, os.path.relpath(f, root))\n",
    "\n",
    "archive_all_subfolder(os.path.join(WORKSPACE_FOLDER, \"greengrass-config.zip\"), GREENGRASS_WORK_FOLDER)"
   ]
  },
  {
   "cell_type": "markdown",
   "metadata": {},
   "source": [
    "Download the `greengrass-config.zip` to your local computer, and upload to the Greengrass EC2"
   ]
  }
 ],
 "metadata": {
  "kernelspec": {
   "display_name": "Python 3",
   "language": "python",
   "name": "python3"
  },
  "language_info": {
   "codemirror_mode": {
    "name": "ipython",
    "version": 3
   },
   "file_extension": ".py",
   "mimetype": "text/x-python",
   "name": "python",
   "nbconvert_exporter": "python",
   "pygments_lexer": "ipython3",
   "version": "3.7.3"
  }
 },
 "nbformat": 4,
 "nbformat_minor": 4
}
