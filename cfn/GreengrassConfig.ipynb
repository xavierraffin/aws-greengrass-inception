{
 "cells": [
  {
   "cell_type": "markdown",
   "metadata": {},
   "source": [
    "# Greengrass Machine Learning Inference (MLI) with pre-trained model uploaded to S3"
   ]
  },
  {
   "cell_type": "markdown",
   "metadata": {},
   "source": [
    "This Jupyter notebook describe the steps in setting up Greengrass Machine Learning Inference, using a pre-trained model uploaded to S3."
   ]
  },
  {
   "cell_type": "markdown",
   "metadata": {},
   "source": [
    "## Design Pattern"
   ]
  },
  {
   "cell_type": "markdown",
   "metadata": {},
   "source": [
    "![Greengrass MLI pretrained model](https://github.com/awslabs/aws-iot-greengrass-accelerators/blob/master/accelerators/machine_learning_inference/assets/mli-s3_models.png?raw=true)"
   ]
  },
  {
   "cell_type": "markdown",
   "metadata": {},
   "source": [
    "The common design patterns of using a pre-trained model in S3 bucket:\n",
    "\n",
    "1. When the Greengrass configuration is being deployed, the Greengrass Core will download the model from the S3 bucket as configured in the Machine Learning Resources, to the local disk, and extract the files from the compressed `.tar.gz` or `.zip`.\n",
    "2. **Data acquisition** - This function periodically acquire the raw data inputs from a image source. In this example, we are using static images to simulate image sources.\n",
    "3. **Data preprocessor** - This function pre-process the image by resize to the images used to train the model.\n",
    "4. **Estimator** - This function predict the data input with data loaded in MXNet runtime\n",
    "5. The MXNet runtime loads the model from the local path \n",
    "6. The process will handle the prediction result, with object detected and confidence level.\n",
    "7. The result can be used to trigger an action, or send it back to the cloud for further processing."
   ]
  },
  {
   "cell_type": "markdown",
   "metadata": {},
   "source": [
    "## Installing dependencies"
   ]
  },
  {
   "cell_type": "code",
   "execution_count": null,
   "metadata": {},
   "outputs": [],
   "source": [
    "!python3.7 -m pip install boto3 awscli;"
   ]
  },
  {
   "cell_type": "markdown",
   "metadata": {},
   "source": [
    "## Parameters configuration"
   ]
  },
  {
   "cell_type": "code",
   "execution_count": null,
   "metadata": {},
   "outputs": [],
   "source": [
    "import boto3\n",
    "import os\n",
    "\n",
    "AWS_ACCOUNT = boto3.client('sts').get_caller_identity().get('Account')\n",
    "\n",
    "AWS_REGION = \"us-east-1\"\n",
    "\n",
    "# Configuration for the IoT Thing: Certificate file name, and AWS IoT Greengrass core name\n",
    "CERT_PEM_OUTFILE=\"mli.cert.pem\"\n",
    "PUBLIC_KEY_OUTFILE=\"mli.public.key\" \n",
    "PRIVATE_KEY_OUTFILE=\"mli.private.key\" \n",
    "CORENAME=\"greengrass_ml_{}\".format(AWS_REGION)\n",
    "\n",
    "# Temporary workspace\n",
    "WORKSPACE_FOLDER=\"./work\"\n",
    "GREENGRASS_WORK_FOLDER=os.path.join(WORKSPACE_FOLDER,\"greengrass\")\n",
    "\n",
    "# S3 Bucket for the ML model\n",
    "ML_S3_BUCKET=\"{}-greengrass-{}\".format(AWS_ACCOUNT,AWS_REGION)\n",
    "\n",
    "# S3 Bucket for the Cloudformation functions\n",
    "CFN_S3_BUCKET=\"{}-cloudformation-{}\".format(AWS_ACCOUNT,AWS_REGION)\n",
    "\n",
    "# Cloudformaton Stack Name for the AWS IoT GReengrass\n",
    "CFN_STACK_NAME=\"greengrass-mli-accelerator\""
   ]
  },
  {
   "cell_type": "code",
   "execution_count": null,
   "metadata": {},
   "outputs": [],
   "source": [
    "# Setting up the temporary work folder\n",
    "\n",
    "![ -d {WORKSPACE_FOLDER} ] && rm -r {WORKSPACE_FOLDER} && echo \"old {WORKSPACE_FOLDER} removed\"\n",
    "!mkdir -p {WORKSPACE_FOLDER} && echo \"{WORKSPACE_FOLDER} created\"\n",
    "!mkdir -p {GREENGRASS_WORK_FOLDER} \\\n",
    "&& mkdir -p {GREENGRASS_WORK_FOLDER}/certs \\\n",
    "&& mkdir -p {GREENGRASS_WORK_FOLDER}/config \\\n",
    "&& echo \"{GREENGRASS_WORK_FOLDER} created\""
   ]
  },
  {
   "cell_type": "markdown",
   "metadata": {},
   "source": [
    "## Prepare and update the pre-trained model to S3 bucket"
   ]
  },
  {
   "cell_type": "markdown",
   "metadata": {},
   "source": [
    "We will download pre-trained model from the model zoo, and upload the S3 folder that AWS IoT Greengrass can download to the Greengrass Core"
   ]
  },
  {
   "cell_type": "code",
   "execution_count": null,
   "metadata": {},
   "outputs": [],
   "source": [
    "!wget -nv http://data.mxnet.io/models/imagenet/inception-bn/Inception-BN-symbol.json --directory-prefix {WORKSPACE_FOLDER}\n",
    "!wget -nv http://data.mxnet.io/mxnet/models/imagenet/synset.txt --directory-prefix {WORKSPACE_FOLDER}\n",
    "!wget -nv http://data.mxnet.io/models/imagenet/inception-bn/Inception-BN-0126.params -O {WORKSPACE_FOLDER}/Inception-BN-0000.params"
   ]
  },
  {
   "cell_type": "code",
   "execution_count": null,
   "metadata": {},
   "outputs": [],
   "source": [
    "from zipfile import ZipFile\n",
    "import os\n",
    "\n",
    "# create a ZipFile object\n",
    "zipObj = ZipFile(os.path.join(WORKSPACE_FOLDER, \"inception-bn.zip\"), 'w')\n",
    "# Add multiple files to the zip\n",
    "for file in [\"Inception-BN-symbol.json\",\"synset.txt\",\"Inception-BN-0000.params\"]:    \n",
    "    zipObj.write(os.path.join(WORKSPACE_FOLDER,file), file)\n",
    "# close the Zip File\n",
    "zipObj.close()"
   ]
  },
  {
   "cell_type": "code",
   "execution_count": null,
   "metadata": {},
   "outputs": [],
   "source": [
    "# Upload to S3 bucket\n",
    "import boto3\n",
    "import os\n",
    "s3 = boto3.resource('s3')\n",
    "if not s3.Bucket(ML_S3_BUCKET) in s3.buckets.all():\n",
    "    s3.create_bucket(Bucket=ML_S3_BUCKET)\n",
    "\n",
    "s3_client = boto3.client('s3')\n",
    "s3_client.upload_file( os.path.join(WORKSPACE_FOLDER, \"inception-bn.zip\"), ML_S3_BUCKET, \"inception-bn.zip\")\n",
    "\n",
    "ML_S3_BUCKET_URI=\"s3://{}/{}\".format(ML_S3_BUCKET, \"inception-bn.zip\")"
   ]
  },
  {
   "cell_type": "markdown",
   "metadata": {},
   "source": [
    "## Create the credential for the AWS IoT Thing"
   ]
  },
  {
   "cell_type": "markdown",
   "metadata": {},
   "source": [
    "We will create the device certificate for the AWS IoT Thing which will be the Greengrass Core"
   ]
  },
  {
   "cell_type": "code",
   "execution_count": null,
   "metadata": {},
   "outputs": [],
   "source": [
    "import boto3\n",
    "from botocore.exceptions import ClientError\n",
    "iotClient = boto3.client('iot', region_name=AWS_REGION)\n",
    "try:\n",
    "    response = iotClient.create_keys_and_certificate(\n",
    "        setAsActive=True\n",
    "    )\n",
    "except ClientError as e:\n",
    "    if(e.response[\"Error\"][\"Code\"]==\"AccessDeniedException\"):\n",
    "        print(\"Missing permission. Please add \\niot:CreateKeysAndCertificate on resource: *\\n to the instance IAM role\\n\")\n",
    "    raise e"
   ]
  },
  {
   "cell_type": "code",
   "execution_count": null,
   "metadata": {},
   "outputs": [],
   "source": [
    "import os\n",
    "CERTIFICATE_ID=response.get(\"certificateId\")\n",
    "CERT_FOLDER = os.path.join(GREENGRASS_WORK_FOLDER, \"certs/\")\n",
    "if not os.path.exists(CERT_FOLDER):\n",
    "    os.makedirs(CERT_FOLDER)                    \n",
    "\n",
    "try:\n",
    "    with open(os.path.join(CERT_FOLDER, CERT_PEM_OUTFILE), 'w') as the_file:\n",
    "        the_file.write(response.get(\"certificatePem\"))\n",
    "    with open(os.path.join(CERT_FOLDER, PUBLIC_KEY_OUTFILE), 'w') as the_file:\n",
    "        the_file.write(response.get(\"keyPair\").get(\"PublicKey\"))\n",
    "    with open(os.path.join(CERT_FOLDER, PRIVATE_KEY_OUTFILE), 'w') as the_file:\n",
    "        the_file.write(response.get(\"keyPair\").get(\"PrivateKey\"))\n",
    "except IOError as e:\n",
    "    print(\"Error creating certificate files\")\n",
    "    raise e"
   ]
  },
  {
   "cell_type": "markdown",
   "metadata": {},
   "source": [
    "## Create the Greengrass Group with Cloudformation template"
   ]
  },
  {
   "cell_type": "markdown",
   "metadata": {},
   "source": [
    "We will use the [Cloudformation template](https://github.com/awslabs/aws-iot-greengrass-accelerators/blob/master/accelerators/machine_learning_inference/cfn/mli_accelerator_s3_models-INPUT.cfn.yaml) from the **AWS IoT Greengrass Accelerator** to create the following resources:\n",
    "* The Lambda function which will be pinned and keep running in the Greengrass Core\n",
    "* An alias which points to the latest version of the Lambda function\n",
    "* A Greengrass Group, consists of the following:\n",
    "   * The Lambda function\n",
    "   * ML resource from the pretrained model uploaded in the S3 bucket\n",
    "   * AWS IoT Thing as the Greengrass Core"
   ]
  },
  {
   "cell_type": "code",
   "execution_count": null,
   "metadata": {},
   "outputs": [],
   "source": [
    "import boto3\n",
    "s3 = boto3.resource('s3')\n",
    "if not s3.Bucket(CFN_S3_BUCKET) in s3.buckets.all():\n",
    "    s3.create_bucket(Bucket=CFN_S3_BUCKET)"
   ]
  },
  {
   "cell_type": "code",
   "execution_count": null,
   "metadata": {},
   "outputs": [],
   "source": [
    "# Check IAM permission\n",
    "import boto3\n",
    "from botocore.exceptions import ClientError\n",
    "\n",
    "try:\n",
    "    cloudformation = boto3.resource('cloudformation', region_name=AWS_REGION)\n",
    "    stack = cloudformation.Stack(CFN_STACK_NAME)\n",
    "    stack.description\n",
    "except ClientError as e:\n",
    "    if(e.response[\"Error\"][\"Code\"]==\"ValidationError\"):\n",
    "        print(\"Stack name {} does not exist, continue\".format(CFN_STACK_NAME))\n",
    "    elif(e.response[\"Error\"][\"Code\"]==\"AccessDenied\"):\n",
    "        print(\"Missing permission. Please add the following IAM Policy\\n\\n \\\n",
    "              resource: arn:aws:cloudformation:{}:{}:stack/{}/*\\n\\n \\\n",
    "              cloudformation:DescribeStacks \\n \\\n",
    "              cloudformation:CreateChangeSet \\n \\\n",
    "              to IAM role:\\n{}\\n\".format(region,AWS_ACCOUNT,CFN_STACK_NAME,role))\n",
    "        raise e\n",
    "    else:\n",
    "        raise e"
   ]
  },
  {
   "cell_type": "code",
   "execution_count": null,
   "metadata": {},
   "outputs": [],
   "source": [
    "def cloudformation_package_deploy():\n",
    "    ![ -e {WORKSPACE_FOLDER}/*-OUTPUT.yaml ] && rm {WORKSPACE_FOLDER}/*-OUTPUT.yaml \n",
    "    !aws cloudformation package \\\n",
    "    --region {AWS_REGION} \\\n",
    "    --template-file aws-iot-greengrass-accelerators/accelerators/machine_learning_inference/cfn/mli_accelerator_s3_models-INPUT.cfn.yaml \\\n",
    "    --s3-bucket {CFN_S3_BUCKET} \\\n",
    "    --output-template-file {WORKSPACE_FOLDER}/mli_accelerator_s3_models-OUTPUT.yaml \\\n",
    "    && \\\n",
    "    aws cloudformation deploy \\\n",
    "      --region {AWS_REGION} \\\n",
    "      --stack-name {CFN_STACK_NAME} \\\n",
    "      --template-file {WORKSPACE_FOLDER}/mli_accelerator_s3_models-OUTPUT.yaml \\\n",
    "      --capabilities CAPABILITY_NAMED_IAM \\\n",
    "      --parameter-overrides \\\n",
    "        CoreName={CORENAME} \\\n",
    "        CertIdParam={CERTIFICATE_ID} \\\n",
    "        ModelS3Uri={ML_S3_BUCKET_URI} "
   ]
  },
  {
   "cell_type": "markdown",
   "metadata": {},
   "source": [
    "### Create/Update the Greengrass Cloud configuration with CloudFormation"
   ]
  },
  {
   "cell_type": "code",
   "execution_count": null,
   "metadata": {},
   "outputs": [],
   "source": [
    "cloudformation_package_deploy()"
   ]
  },
  {
   "cell_type": "code",
   "execution_count": null,
   "metadata": {},
   "outputs": [],
   "source": [
    "print(\"...waiting for stack {} to be ready...\".format(CFN_STACK_NAME))\n",
    "client = boto3.client('cloudformation', region_name=AWS_REGION)\n",
    "waiter = client.get_waiter('stack_create_complete')\n",
    "waiter.wait(StackName=CFN_STACK_NAME)"
   ]
  },
  {
   "cell_type": "markdown",
   "metadata": {},
   "source": [
    "At this point, all resources have been created and an initial Greengrass deployment has also been created and ready to be sent to the device."
   ]
  },
  {
   "cell_type": "markdown",
   "metadata": {},
   "source": [
    "## Package the Greengrass config and credential files"
   ]
  },
  {
   "cell_type": "markdown",
   "metadata": {},
   "source": [
    "We will create a zip file `greengrass-setup.zip` that includes the following folder file and folder structure:\n",
    "\n",
    "* greengrass/\n",
    "   * config/\n",
    "      * config.json\n",
    "   * certs/\n",
    "      * AmazonRootCA1.pem\n",
    "      * cert.pem\n",
    "      * private.key.pem\n",
    "      * public.key.pem\n",
    "      \n",
    "The file `greengrass-setup.zip` will then be uploaded to the Greengrass Core and extract to the folder where AWS IoT Greengrass is installed, typically in `/greengrass`"
   ]
  },
  {
   "cell_type": "code",
   "execution_count": null,
   "metadata": {},
   "outputs": [],
   "source": [
    "import boto3\n",
    "import json\n",
    "from zipfile import ZipFile\n",
    "import os\n",
    "\n",
    "def get_cloudformation_output(stack_name, output_keyname):\n",
    "    \"\"\"\n",
    "    'stack_name' is the name of the Cloudformation stack to get the output value\n",
    "    'output_keyname' is name of the key to retrieve the value\n",
    "    \"\"\"    \n",
    "    cfn_client = boto3.client('cloudformation', region_name=AWS_REGION)\n",
    "    response = cfn_client.describe_stacks(StackName=stack_name)\n",
    "    stacks = response.get(\"Stacks\")\n",
    "\n",
    "    value={}\n",
    "    for stack in stacks:\n",
    "        if stack[\"Outputs\"]:\n",
    "            for output in stack[\"Outputs\"]:\n",
    "                if output[\"OutputKey\"] == output_keyname:\n",
    "                    value = output[\"OutputValue\"]\n",
    "    \n",
    "    return value\n",
    "\n",
    "def archive_all_subfolder(zipfile, folder):\n",
    "    \"\"\"\n",
    "    'zipfile' is the file name for the archive with a full path\n",
    "    'folder' is root of the folder which all files to be added to the zipfile\n",
    "    \"\"\"\n",
    "    with ZipFile(zipfile, 'w') as zip:    \n",
    "        for root, dirs, files in os.walk(folder):\n",
    "            if(files):\n",
    "                for file in files:\n",
    "                    f = os.path.join(root,file)\n",
    "                    print (\"archiving file {} --> {}\".format(f,os.path.relpath(f, folder)))\n",
    "                    zip.write(f, os.path.relpath(f, folder))"
   ]
  },
  {
   "cell_type": "code",
   "execution_count": null,
   "metadata": {},
   "outputs": [],
   "source": [
    "greengrass_config = get_cloudformation_output(CFN_STACK_NAME,\"GreengrassConfig\")\n",
    "\n",
    "greengrass_config = json.loads(greengrass_config)\n",
    "    \n",
    "# Update the credential file name\n",
    "greengrass_config[\"crypto\"][\"principals\"][\"IoTCertificate\"][\"privateKeyPath\"] = \"file:////greengrass/certs/{}\".format(PRIVATE_KEY_OUTFILE)\n",
    "greengrass_config[\"crypto\"][\"principals\"][\"IoTCertificate\"][\"certificatePath\"] = \"file:////greengrass/certs/{}\".format(CERT_PEM_OUTFILE)\n",
    "\n",
    "try:\n",
    "    GREENGRASS_CONFIG_FOLDER = os.path.join(GREENGRASS_WORK_FOLDER, \"config/\")\n",
    "    if not os.path.exists(GREENGRASS_CONFIG_FOLDER):\n",
    "        os.makedirs(GREENGRASS_CONFIG_FOLDER)                    \n",
    "    with open(os.path.join(GREENGRASS_CONFIG_FOLDER, \"config.json\"), 'w') as the_file:\n",
    "        the_file.write(json.dumps(greengrass_config, indent=4))\n",
    "except IOError as e:\n",
    "    print(\"Error creating Greengrass config file\")\n",
    "    raise e"
   ]
  },
  {
   "cell_type": "code",
   "execution_count": null,
   "metadata": {},
   "outputs": [],
   "source": [
    "# Download the Amazon ROOT CA cert into the folder\n",
    "!wget -O {GREENGRASS_WORK_FOLDER}/certs/AmazonRootCA1.pem https://www.amazontrust.com/repository/AmazonRootCA1.pem"
   ]
  },
  {
   "cell_type": "code",
   "execution_count": null,
   "metadata": {},
   "outputs": [],
   "source": [
    "archive_all_subfolder(os.path.join(WORKSPACE_FOLDER, \"greengrass-setup.zip\"), GREENGRASS_WORK_FOLDER)"
   ]
  },
  {
   "cell_type": "markdown",
   "metadata": {},
   "source": [
    "## Setting up the AWS IoT Greengrass"
   ]
  },
  {
   "cell_type": "markdown",
   "metadata": {},
   "source": [
    "The `greengrass-setup.zip` can be download  to your local computer, by right-click on the file `greengrass-setup.zip` in the `File Browser` from the left sidebar, select `Download`.\n",
    "\n",
    "Once the file `greengrass-setup.zip` is downloaded to your local computer, upload the file to the Greengrass Core."
   ]
  },
  {
   "cell_type": "markdown",
   "metadata": {},
   "source": [
    "### Optional: Create a AWS IoT Greengrass on an AWS EC2"
   ]
  },
  {
   "cell_type": "markdown",
   "metadata": {},
   "source": [
    "You can create an EC2 with AWS IoT Greengrass running, with the Cloudformation template which can be found in [Github location of AWS IoT Greengrass Accelerator for MLI](https://github.com/awslabs/aws-iot-greengrass-accelerators/blob/master/accelerators/machine_learning_inference/S3_MODELS.md#aws-greengrass-core-on-aws-ec2). \n",
    "You will need the following parameter to create the EC2-Greengrass using the template."
   ]
  },
  {
   "cell_type": "code",
   "execution_count": null,
   "metadata": {},
   "outputs": [],
   "source": [
    "# Parameters you will need to create the AWS IoT Greengrass on an AWS EC2\n",
    "print(\"CORENAME: {}\".format(CORENAME))"
   ]
  },
  {
   "cell_type": "markdown",
   "metadata": {},
   "source": [
    "Once the stack has been created, you will upload the `greengrass-setup.zip` to the AWS EC2.\n",
    "\n",
    "1. Download the `greengrass-config.zip` to your local computer, and upload to the Greengrass EC2\n",
    "2. `scp` the `greengrass-config.zip` to the Greengrass EC2. The `scp` command can be found in the `SCPCommand` output of the stack.\n",
    "3. Once `greengrass-config.zip` is `scp` to the EC2, ssh to the EC2. The `ssh` command can be found in the `ConnectCommand` output of the stack.\n",
    "4. In the EC2, extract `greengrass-setup.zip` into `/greengrass` folder using command \n",
    "\n",
    "```bash\n",
    "sudo unzip -o greengrass-setup.zip -d /greengrass\n",
    "```\n",
    "\n",
    "5. Quick check if all files are in place. For example, making sure the `AmazonRootCA1.pem` contents are proper \n",
    "\n",
    "```bash\n",
    "$ sudo cat /greengrass/certs/AmazonRootCA1.pem\n",
    "-----BEGIN CERTIFICATE-----\n",
    "```\n",
    "\n",
    "6. Starts the Greengrass with command `$ sudo systemctl restart greengrass`\n",
    "\n",
    "7. Ensure that Greengrass started successfully \n",
    "\n",
    "```bash\n",
    "$ sudo systemctl status greengrass\n",
    "greengrass.service - greengrass daemon\n",
    "   Loaded: loaded (/etc/systemd/system/greengrass.service; enabled; vendor preset: enabled)\n",
    "   Active: active (running) since Mon 2019-11-11 05:05:55 UTC; 20min ago\n",
    "```"
   ]
  },
  {
   "cell_type": "code",
   "execution_count": null,
   "metadata": {},
   "outputs": [],
   "source": [
    "from IPython.display import display, Markdown\n",
    "display(Markdown('Note: you can generate an EC2 with Greengrass running, using a template in section **[Optional: Create a AWS IoT Greengrass on an AWS EC2]**(#Optional:-Create-a-AWS-IoT-Greengrass-on-an-AWS-EC2)'))\n",
    "key_pressed = input('Press ENTER to continue, once your AWS IoT Greengrass Core has been successfully started: ')"
   ]
  },
  {
   "cell_type": "markdown",
   "metadata": {},
   "source": [
    "## Greengrass Deployment"
   ]
  },
  {
   "cell_type": "markdown",
   "metadata": {},
   "source": [
    "With the `greengrass` software connected to the AWS IoT cloud using the configuration file and certificates in the Greengrass Core hardware, we can proceed to deploy the cloud configuration to the AWS IoT Greengrass Core Device. \n",
    "\n",
    "The deployment requires the Greengrass ID, and the version ID to be deployed. We will be deploying the latest version ID."
   ]
  },
  {
   "cell_type": "code",
   "execution_count": null,
   "metadata": {},
   "outputs": [],
   "source": [
    "import boto3\n",
    "from collections import OrderedDict\n",
    "from operator import itemgetter    \n",
    "\n",
    "greengrass_client = boto3.client('greengrass', region_name = AWS_REGION)\n",
    "\n",
    "group_id = get_cloudformation_output(CFN_STACK_NAME, \"GreengrassGroupID\")\n",
    "\n",
    "versions_response = greengrass_client.list_group_versions(\n",
    "    GroupId=group_id\n",
    ")\n",
    "\n",
    "versions = versions_response.get(\"Versions\")\n",
    "sorted_versions = sorted(versions, key=lambda version: version.get(\"CreationTimestamp\"), reverse=True)\n",
    "latest_version = sorted_versions[0]\n",
    "\n",
    "deployment_response = greengrass_client.create_deployment(\n",
    "    DeploymentType='NewDeployment',\n",
    "    GroupId=group_id,\n",
    "    GroupVersionId=latest_version.get(\"Version\")\n",
    ")\n",
    "deployment_response"
   ]
  },
  {
   "cell_type": "code",
   "execution_count": null,
   "metadata": {},
   "outputs": [],
   "source": [
    "import time\n",
    "\n",
    "# wait for 1 min before checking the deployment status\n",
    "time.sleep(60)\n",
    "\n",
    "deployment_status_response = greengrass_client.get_deployment_status(DeploymentId=deployment_response.get(\"DeploymentId\"),GroupId=group_id)\n",
    "status = deployment_status_response.get(\"DeploymentStatus\")\n",
    "print(\"Deployment status was: {}\".format(status))"
   ]
  },
  {
   "cell_type": "markdown",
   "metadata": {},
   "source": [
    "## IoT Test Client"
   ]
  },
  {
   "cell_type": "markdown",
   "metadata": {},
   "source": [
    "The estimator Lambda function will loop through the local images, and forward to the mxnet predictor. The Lambda function will then send the prediction results as MQTT message with topic `mli/predictions/{CORENAME}` to both local and to the cloud.\n",
    "\n",
    "We will be using the AWS IoT Python SDK to subscribe to the topic.\n",
    "\n",
    "Once the MQTT client is subscribed to the topic, you should be able to see the messages in the output, such as \n",
    "\n",
    "```\n",
    "Received a new message: \n",
    "b'[{\"confidence\": \"0.6718504\", \"prediction\": \"n03983396 pop bottle, soda bottle\"}]'\n",
    "from topic: \n",
    "mli/predictions/greengrass_ml_us-east-1\n",
    "--------------\n",
    "```"
   ]
  },
  {
   "cell_type": "code",
   "execution_count": null,
   "metadata": {},
   "outputs": [],
   "source": [
    "!python3.7 -m pip install AWSIoTPythonSDK"
   ]
  },
  {
   "cell_type": "code",
   "execution_count": null,
   "metadata": {},
   "outputs": [],
   "source": [
    "from AWSIoTPythonSDK.MQTTLib import AWSIoTMQTTClient\n",
    "import boto3\n",
    "\n",
    "client = boto3.client('iot', region_name=AWS_REGION)\n",
    "endpoint = client.describe_endpoint(\n",
    "    endpointType='iot:Data-ATS'\n",
    ")\n",
    "\n",
    "# Custom MQTT message callback\n",
    "def subscriptionCallback(client, userdata, message):\n",
    "    print(\"Received a new message: \")\n",
    "    print(message.payload)\n",
    "    print(\"from topic: \")\n",
    "    print(message.topic)\n",
    "    print(\"--------------\\n\\n\")\n",
    "    \n",
    "awsIoTMqttClient = AWSIoTMQTTClient(\"myClientID\")\n",
    "awsIoTMqttClient.configureEndpoint(endpoint.get('endpointAddress'), 8883)\n",
    "awsIoTMqttClient.configureCredentials( \n",
    "    os.path.join(GREENGRASS_WORK_FOLDER, \"certs\", \"AmazonRootCA1.pem\"), \n",
    "    os.path.join(GREENGRASS_WORK_FOLDER, \"certs\", PRIVATE_KEY_OUTFILE),\n",
    "    os.path.join(GREENGRASS_WORK_FOLDER, \"certs\", CERT_PEM_OUTFILE)\n",
    ")\n",
    "awsIoTMqttClient.connect()\n",
    "awsIoTMqttClient.subscribe(\"mli/predictions/{}\".format(CORENAME), 1, subscriptionCallback)\n",
    "key_pressed = input('Press ENTER to stop subscription')\n",
    "awsIoTMqttClient.disconnect()"
   ]
  },
  {
   "cell_type": "markdown",
   "metadata": {},
   "source": [
    "## Optional: Update the Lambda function and redeploy"
   ]
  },
  {
   "cell_type": "markdown",
   "metadata": {},
   "source": [
    "Update either the Lambda function or the ML model, and \n",
    "* Step 1: [update the Cloudformation stack](#Create/Update-the-Greengrass-Cloud-configuration-with-CloudFormation)\n",
    "* Step 2: [redeploy](#Greengrass-Deployment)"
   ]
  },
  {
   "cell_type": "markdown",
   "metadata": {},
   "source": [
    "### Optional 1: Add image file to the MQTT prediction message"
   ]
  },
  {
   "cell_type": "markdown",
   "metadata": {},
   "source": [
    "1. Open the Lambda file `greengrass_long_run.py` in `/aws-greengrass-mxnet-inception/cfn/aws-iot-greengrass-accelerators/accelerators/machine_learning_inference/cfn/lambda_functions/s3_models/greengrass_long_run.py`\n",
    "2. "
   ]
  },
  {
   "cell_type": "code",
   "execution_count": null,
   "metadata": {},
   "outputs": [],
   "source": []
  }
 ],
 "metadata": {
  "kernelspec": {
   "display_name": "Python 3",
   "language": "python",
   "name": "python3"
  },
  "language_info": {
   "codemirror_mode": {
    "name": "ipython",
    "version": 3
   },
   "file_extension": ".py",
   "mimetype": "text/x-python",
   "name": "python",
   "nbconvert_exporter": "python",
   "pygments_lexer": "ipython3",
   "version": "3.7.3"
  }
 },
 "nbformat": 4,
 "nbformat_minor": 4
}
