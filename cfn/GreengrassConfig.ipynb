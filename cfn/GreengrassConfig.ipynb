{
 "cells": [
  {
   "cell_type": "markdown",
   "metadata": {},
   "source": [
    "## Environment setup"
   ]
  },
  {
   "cell_type": "code",
   "execution_count": 1,
   "metadata": {},
   "outputs": [
    {
     "name": "stdout",
     "output_type": "stream",
     "text": [
      "Collecting boto3\n",
      "\u001b[?25l  Downloading https://files.pythonhosted.org/packages/7f/4f/880cb8ed7856bc6f7b1488210259bbd1155c68d3f0a972b0c90b54205e44/boto3-1.10.14-py2.py3-none-any.whl (128kB)\n",
      "\u001b[K     |████████████████████████████████| 133kB 21.2MB/s eta 0:00:01\n",
      "\u001b[?25hRequirement already satisfied: jmespath<1.0.0,>=0.7.1 in /opt/conda/lib/python3.7/site-packages (from boto3) (0.9.4)\n",
      "Requirement already satisfied: s3transfer<0.3.0,>=0.2.0 in /opt/conda/lib/python3.7/site-packages (from boto3) (0.2.1)\n",
      "Requirement already satisfied: botocore<1.14.0,>=1.13.14 in /opt/conda/lib/python3.7/site-packages (from boto3) (1.13.14)\n",
      "Requirement already satisfied: urllib3<1.26,>=1.20; python_version >= \"3.4\" in /opt/conda/lib/python3.7/site-packages (from botocore<1.14.0,>=1.13.14->boto3) (1.25.3)\n",
      "Requirement already satisfied: docutils<0.16,>=0.10 in /opt/conda/lib/python3.7/site-packages (from botocore<1.14.0,>=1.13.14->boto3) (0.15.2)\n",
      "Requirement already satisfied: python-dateutil<2.8.1,>=2.1; python_version >= \"2.7\" in /opt/conda/lib/python3.7/site-packages (from botocore<1.14.0,>=1.13.14->boto3) (2.8.0)\n",
      "Requirement already satisfied: six>=1.5 in /opt/conda/lib/python3.7/site-packages (from python-dateutil<2.8.1,>=2.1; python_version >= \"2.7\"->botocore<1.14.0,>=1.13.14->boto3) (1.12.0)\n",
      "Installing collected packages: boto3\n",
      "Successfully installed boto3-1.10.14\n"
     ]
    }
   ],
   "source": [
    "!python3.7 -m pip install boto3;"
   ]
  },
  {
   "cell_type": "code",
   "execution_count": 2,
   "metadata": {},
   "outputs": [
    {
     "name": "stdout",
     "output_type": "stream",
     "text": [
      "Requirement already satisfied: awscli in /opt/conda/lib/python3.7/site-packages (1.16.278)\n",
      "Requirement already satisfied: s3transfer<0.3.0,>=0.2.0 in /opt/conda/lib/python3.7/site-packages (from awscli) (0.2.1)\n",
      "Requirement already satisfied: docutils<0.16,>=0.10 in /opt/conda/lib/python3.7/site-packages (from awscli) (0.15.2)\n",
      "Requirement already satisfied: botocore==1.13.14 in /opt/conda/lib/python3.7/site-packages (from awscli) (1.13.14)\n",
      "Requirement already satisfied: colorama<0.4.2,>=0.2.5; python_version != \"2.6\" and python_version != \"3.3\" in /opt/conda/lib/python3.7/site-packages (from awscli) (0.4.1)\n",
      "Requirement already satisfied: rsa<=3.5.0,>=3.1.2 in /opt/conda/lib/python3.7/site-packages (from awscli) (3.4.2)\n",
      "Requirement already satisfied: PyYAML<5.2,>=3.10; python_version != \"2.6\" and python_version != \"3.3\" in /opt/conda/lib/python3.7/site-packages (from awscli) (5.1.2)\n",
      "Requirement already satisfied: python-dateutil<2.8.1,>=2.1; python_version >= \"2.7\" in /opt/conda/lib/python3.7/site-packages (from botocore==1.13.14->awscli) (2.8.0)\n",
      "Requirement already satisfied: jmespath<1.0.0,>=0.7.1 in /opt/conda/lib/python3.7/site-packages (from botocore==1.13.14->awscli) (0.9.4)\n",
      "Requirement already satisfied: urllib3<1.26,>=1.20; python_version >= \"3.4\" in /opt/conda/lib/python3.7/site-packages (from botocore==1.13.14->awscli) (1.25.3)\n",
      "Requirement already satisfied: pyasn1>=0.1.3 in /opt/conda/lib/python3.7/site-packages (from rsa<=3.5.0,>=3.1.2->awscli) (0.4.7)\n",
      "Requirement already satisfied: six>=1.5 in /opt/conda/lib/python3.7/site-packages (from python-dateutil<2.8.1,>=2.1; python_version >= \"2.7\"->botocore==1.13.14->awscli) (1.12.0)\n"
     ]
    }
   ],
   "source": [
    "!python3.7 -m pip install awscli;"
   ]
  },
  {
   "cell_type": "markdown",
   "metadata": {},
   "source": [
    "## Parameters configuration"
   ]
  },
  {
   "cell_type": "code",
   "execution_count": 3,
   "metadata": {},
   "outputs": [],
   "source": [
    "import boto3\n",
    "\n",
    "account = boto3.client('sts').get_caller_identity().get('Account')\n",
    "\n",
    "AWS_REGION = \"us-east-1\"\n",
    "\n",
    "# Configuration for the IoT Thing: Certificate file name, and core name\n",
    "CERT_PEM_OUTFILE=\"mli.cert.pem\"\n",
    "PUBLIC_KEY_OUTFILE=\"mli.public.key\" \n",
    "PRIVATE_KEY_OUTFILE=\"mli.private.key\" \n",
    "CORENAME=\"greengrass_ml_{}\".format(AWS_REGION)\n",
    "\n",
    "# Temporary workspace\n",
    "WORKSPACE_FOLDER=\"./work\"\n",
    "\n",
    "# S3 Bucket for the ML model\n",
    "ML_S3_BUCKET=\"{}-greengrass-{}\".format(account,AWS_REGION)\n",
    "\n",
    "# S3 Bucket for the Cloudformation functions\n",
    "CFN_S3_BUCKET=\"{}-cloudformation-{}\".format(account,AWS_REGION)\n",
    "CFN_STACK_NAME=\"greengrass-mli-accelerator\""
   ]
  },
  {
   "cell_type": "code",
   "execution_count": 4,
   "metadata": {},
   "outputs": [
    {
     "name": "stdout",
     "output_type": "stream",
     "text": [
      "old ./work removed\n",
      "./work created\n"
     ]
    }
   ],
   "source": [
    "![ -d {WORKSPACE_FOLDER} ] && rm -r {WORKSPACE_FOLDER} && echo \"old {WORKSPACE_FOLDER} removed\"\n",
    "!mkdir -p {WORKSPACE_FOLDER} && echo \"{WORKSPACE_FOLDER} created\""
   ]
  },
  {
   "cell_type": "markdown",
   "metadata": {},
   "source": [
    "## Create the credential for the Greengrass Core"
   ]
  },
  {
   "cell_type": "code",
   "execution_count": 5,
   "metadata": {},
   "outputs": [],
   "source": [
    "iotClient = boto3.client('iot', region_name=AWS_REGION)\n",
    "from botocore.exceptions import ClientError\n",
    "try:\n",
    "    response = iotClient.create_keys_and_certificate(\n",
    "        setAsActive=True\n",
    "    )\n",
    "except ClientError as e:\n",
    "    if(e.response[\"Error\"][\"Code\"]==\"AccessDeniedException\"):\n",
    "        print(\"Missing permission. Please add \\niot:CreateKeysAndCertificate on resource: *\\n to the instance IAM role\\n\")\n",
    "    raise e"
   ]
  },
  {
   "cell_type": "code",
   "execution_count": 6,
   "metadata": {},
   "outputs": [],
   "source": [
    "import os\n",
    "CERTIFICATE_ID=response.get(\"certificateId\")\n",
    "\n",
    "try:\n",
    "    with open(os.path.join(WORKSPACE_FOLDER, CERT_PEM_OUTFILE), 'w') as the_file:\n",
    "        the_file.write(response.get(\"certificatePem\"))\n",
    "    with open(os.path.join(WORKSPACE_FOLDER, PUBLIC_KEY_OUTFILE), 'w') as the_file:\n",
    "        the_file.write(response.get(\"keyPair\").get(\"PublicKey\"))\n",
    "    with open(os.path.join(WORKSPACE_FOLDER, PRIVATE_KEY_OUTFILE), 'w') as the_file:\n",
    "        the_file.write(response.get(\"keyPair\").get(\"PrivateKey\"))\n",
    "except IOError as e:\n",
    "    print(\"Error creating certificate files\")\n",
    "    raise e"
   ]
  },
  {
   "cell_type": "markdown",
   "metadata": {},
   "source": [
    "## Download the pre-trained model"
   ]
  },
  {
   "cell_type": "code",
   "execution_count": 7,
   "metadata": {},
   "outputs": [
    {
     "name": "stdout",
     "output_type": "stream",
     "text": [
      "2019-11-09 20:05:09 URL:http://data.mxnet.io.s3-website-us-west-1.amazonaws.com/models/imagenet/inception-bn/Inception-BN-symbol.json [116922/116922] -> \"./work/Inception-BN-symbol.json\" [1]\n",
      "2019-11-09 20:05:09 URL:http://data.mxnet.io.s3-website-us-west-1.amazonaws.com/mxnet/models/imagenet/synset.txt [31675/31675] -> \"./work/synset.txt\" [1]\n",
      "2019-11-09 20:05:12 URL:http://data.mxnet.io.s3-website-us-west-1.amazonaws.com/models/imagenet/inception-bn/Inception-BN-0126.params [45284780/45284780] -> \"./work/Inception-BN-0000.params\" [1]\n"
     ]
    }
   ],
   "source": [
    "!wget -nv http://data.mxnet.io/models/imagenet/inception-bn/Inception-BN-symbol.json --directory-prefix {WORKSPACE_FOLDER}\n",
    "!wget -nv http://data.mxnet.io/mxnet/models/imagenet/synset.txt --directory-prefix {WORKSPACE_FOLDER}\n",
    "!wget -nv http://data.mxnet.io/models/imagenet/inception-bn/Inception-BN-0126.params -O {WORKSPACE_FOLDER}/Inception-BN-0000.params"
   ]
  },
  {
   "cell_type": "code",
   "execution_count": 8,
   "metadata": {},
   "outputs": [],
   "source": [
    "from zipfile import ZipFile\n",
    "\n",
    "# create a ZipFile object\n",
    "zipObj = ZipFile(os.path.join(WORKSPACE_FOLDER, \"inception-bn.zip\"), 'w')\n",
    "# Add multiple files to the zip\n",
    "zipObj.write(os.path.join(WORKSPACE_FOLDER,\"Inception-BN-symbol.json\"))\n",
    "zipObj.write(os.path.join(WORKSPACE_FOLDER,\"synset.txt\"))\n",
    "zipObj.write(os.path.join(WORKSPACE_FOLDER,\"Inception-BN-0000.params\"))\n",
    "# close the Zip File\n",
    "zipObj.close()"
   ]
  },
  {
   "cell_type": "code",
   "execution_count": 9,
   "metadata": {},
   "outputs": [],
   "source": [
    "# Upload to S3 bucket\n",
    "import boto3\n",
    "import os\n",
    "s3 = boto3.resource('s3')\n",
    "if not s3.Bucket(ML_S3_BUCKET) in s3.buckets.all():\n",
    "    s3.create_bucket(Bucket=ML_S3_BUCKET)\n",
    "\n",
    "s3_client = boto3.client('s3')\n",
    "s3_client.upload_file( os.path.join(WORKSPACE_FOLDER, \"inception-bn.zip\"), ML_S3_BUCKET, \"inception-bn.zip\")\n",
    "\n",
    "ML_S3_BUCKET_URI=\"s3://{}/{}\".format(ML_S3_BUCKET, \"inception-bn.zip\")"
   ]
  },
  {
   "cell_type": "markdown",
   "metadata": {},
   "source": [
    "## Uses the Cloudformation to generate the Greengrass Core"
   ]
  },
  {
   "cell_type": "code",
   "execution_count": 16,
   "metadata": {},
   "outputs": [
    {
     "name": "stdout",
     "output_type": "stream",
     "text": [
      "Cloning into 'aws-iot-greengrass-accelerators'...\n",
      "remote: Enumerating objects: 208, done.\u001b[K\n",
      "remote: Counting objects: 100% (208/208), done.\u001b[K\n",
      "remote: Compressing objects: 100% (159/159), done.\u001b[K\n",
      "remote: Total 208 (delta 67), reused 170 (delta 43), pack-reused 0\u001b[K\n",
      "Receiving objects: 100% (208/208), 5.34 MiB | 19.11 MiB/s, done.\n",
      "Resolving deltas: 100% (67/67), done.\n"
     ]
    }
   ],
   "source": [
    "!git clone https://github.com/awslabs/aws-iot-greengrass-accelerators.git"
   ]
  },
  {
   "cell_type": "code",
   "execution_count": 10,
   "metadata": {},
   "outputs": [],
   "source": [
    "import boto3\n",
    "s3 = boto3.resource('s3')\n",
    "if not s3.Bucket(CFN_S3_BUCKET) in s3.buckets.all():\n",
    "    s3.create_bucket(Bucket=CFN_S3_BUCKET)"
   ]
  },
  {
   "cell_type": "code",
   "execution_count": 11,
   "metadata": {},
   "outputs": [
    {
     "name": "stdout",
     "output_type": "stream",
     "text": [
      "Stack name greengrass-mli-accelerator does not exist, continue\n"
     ]
    }
   ],
   "source": [
    "# Check IAM permission\n",
    "import boto3\n",
    "from botocore.exceptions import ClientError\n",
    "\n",
    "try:\n",
    "    cloudformation = boto3.resource('cloudformation', region_name=AWS_REGION)\n",
    "    stack = cloudformation.Stack(CFN_STACK_NAME)\n",
    "    stack.description\n",
    "except ClientError as e:\n",
    "    if(e.response[\"Error\"][\"Code\"]==\"ValidationError\"):\n",
    "        print(\"Stack name {} does not exist, continue\".format(CFN_STACK_NAME))\n",
    "    elif(e.response[\"Error\"][\"Code\"]==\"AccessDenied\"):\n",
    "        print(\"Missing permission. Please add the following IAM Policy\\n\\n \\\n",
    "              resource: arn:aws:cloudformation:{}:{}:stack/{}/*\\n\\n \\\n",
    "              cloudformation:DescribeStacks \\n \\\n",
    "              cloudformation:CreateChangeSet \\n \\\n",
    "              to IAM role:\\n{}\\n\".format(region,account,CFN_STACK_NAME,role))\n",
    "        raise e\n",
    "    else:\n",
    "        raise e"
   ]
  },
  {
   "cell_type": "code",
   "execution_count": 18,
   "metadata": {},
   "outputs": [
    {
     "name": "stdout",
     "output_type": "stream",
     "text": [
      "Uploading to c232aa669d7875a2f0a0e474cdfa9208  3751 / 3751.0  (100.00%)00%)\n",
      "Successfully packaged artifacts and wrote output template to file ./work/mli_accelerator_s3_models-OUTPUT.yaml.\n",
      "Execute the following command to deploy the packaged template\n",
      "aws cloudformation deploy --template-file /home/jovyan/work/mli_accelerator_s3_models-OUTPUT.yaml --stack-name <YOUR STACK NAME>\n"
     ]
    }
   ],
   "source": [
    "![ -e {WORKSPACE_FOLDER}/*-OUTPUT.yaml ] && rm {WORKSPACE_FOLDER}/*-OUTPUT.yaml\n",
    "!aws cloudformation package \\\n",
    "--region {AWS_REGION} \\\n",
    "--template-file aws-iot-greengrass-accelerators/accelerators/machine_learning_inference/cfn/mli_accelerator_s3_models-INPUT.cfn.yaml \\\n",
    "--s3-bucket {CFN_S3_BUCKET} \\\n",
    "--output-template-file {WORKSPACE_FOLDER}/mli_accelerator_s3_models-OUTPUT.yaml\n"
   ]
  },
  {
   "cell_type": "code",
   "execution_count": 19,
   "metadata": {},
   "outputs": [
    {
     "name": "stdout",
     "output_type": "stream",
     "text": [
      "\n",
      "Waiting for changeset to be created..\n",
      "Waiting for stack create/update to complete\n",
      "Successfully created/updated stack - greengrass-mli-accelerator\n"
     ]
    }
   ],
   "source": [
    "!aws cloudformation deploy \\\n",
    "  --region {AWS_REGION} \\\n",
    "  --stack-name {CFN_STACK_NAME} \\\n",
    "  --template-file {WORKSPACE_FOLDER}/mli_accelerator_s3_models-OUTPUT.yaml \\\n",
    "  --capabilities CAPABILITY_NAMED_IAM \\\n",
    "  --parameter-overrides \\\n",
    "    CoreName={CORENAME} \\\n",
    "    CertIdParam={CERTIFICATE_ID} \\\n",
    "    ModelS3Uri={ML_S3_BUCKET_URI} "
   ]
  },
  {
   "cell_type": "code",
   "execution_count": 21,
   "metadata": {},
   "outputs": [
    {
     "name": "stdout",
     "output_type": "stream",
     "text": [
      "...waiting for stack greengrass-mli-accelerator to be ready...\n"
     ]
    }
   ],
   "source": [
    "print(\"...waiting for stack {} to be ready...\".format(CFN_STACK_NAME))\n",
    "client = boto3.client('cloudformation', region_name=AWS_REGION)\n",
    "waiter = client.get_waiter('stack_create_complete')\n",
    "waiter.wait(StackName=CFN_STACK_NAME)"
   ]
  },
  {
   "cell_type": "markdown",
   "metadata": {},
   "source": [
    "## Package the credentials and config"
   ]
  },
  {
   "cell_type": "code",
   "execution_count": null,
   "metadata": {},
   "outputs": [],
   "source": []
  }
 ],
 "metadata": {
  "kernelspec": {
   "display_name": "Python 3",
   "language": "python",
   "name": "python3"
  },
  "language_info": {
   "codemirror_mode": {
    "name": "ipython",
    "version": 3
   },
   "file_extension": ".py",
   "mimetype": "text/x-python",
   "name": "python",
   "nbconvert_exporter": "python",
   "pygments_lexer": "ipython3",
   "version": "3.7.3"
  }
 },
 "nbformat": 4,
 "nbformat_minor": 4
}
